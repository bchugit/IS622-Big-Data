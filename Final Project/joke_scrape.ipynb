{
 "cells": [
  {
   "cell_type": "markdown",
   "metadata": {},
   "source": [
    "## Scrape and clean joke text from files"
   ]
  },
  {
   "cell_type": "code",
   "execution_count": 1,
   "metadata": {
    "collapsed": true
   },
   "outputs": [],
   "source": [
    "from bs4 import BeautifulSoup\n",
    "import re\n",
    "import itertools as iter"
   ]
  },
  {
   "cell_type": "code",
   "execution_count": 2,
   "metadata": {
    "collapsed": false
   },
   "outputs": [
    {
     "name": "stdout",
     "output_type": "stream",
     "text": [
      "<html>\n",
      "<head>\n",
      "<title>Joke 2 of 25</title>\n",
      "</head>\n",
      "<body bgcolor=\"#fddf84\" text=\"black\">\n",
      "<table cellpadding=\"0\" cellspacing=\"0\" width=\"620\">\n",
      "<td width=\"130\"> </td>\n",
      "<td width=\"470\">\n",
      "<br><center><font color=\"red\" size=\"+2\">\n",
      "</font></center>\n",
      "<ul> <font size=\"+1\"> <br>\n",
      "<!--begin of joke -->\n",
      "This couple had an excellent relationship going until one day he came home\n",
      "from work to find his girlfriend packing. He asked her why she was leaving him\n",
      "and she told him that she had heard awful things about him. \n",
      "<p>\n",
      "\"What could they possibly have said to make you move out?\" \n",
      "<p>\n",
      "\"They told me that you were a pedophile.\" \n",
      "<p>\n",
      "He replied, \"That's an awfully big word for a ten year old.\" \n",
      "<!--end of joke -->\n",
      "<center><table cols=\"3\" width=\"100%\">\n",
      "</table></center>\n",
      "</p></p></p></br></font></ul></br></td></table></body></html>\n",
      "\n",
      "\n",
      "\n"
     ]
    }
   ],
   "source": [
    "url = \"./jokes/init2.html\"\n",
    "soup = BeautifulSoup(open(url), 'html.parser')\n",
    "print soup"
   ]
  },
  {
   "cell_type": "code",
   "execution_count": 3,
   "metadata": {
    "collapsed": false
   },
   "outputs": [],
   "source": [
    "comments = soup.findAll(text=lambda text:isinstance(text, Comment))\n",
    "comment = soup.findAll(text=re.compile(\"begin of joke\"))"
   ]
  },
  {
   "cell_type": "code",
   "execution_count": 4,
   "metadata": {
    "collapsed": false
   },
   "outputs": [],
   "source": [
    "def get_joke(url):\n",
    "    soup = BeautifulSoup(open(url), 'html.parser')\n",
    "    joke_text = soup.body.get_text()\n",
    "    joke_text = joke_text.replace('\\n', ' ').strip() # remove newlines\n",
    "    joke_text = \" \".join(joke_text.split())\n",
    "    joke_text = joke_text.replace(',', ', ').strip() # remove comma no space\n",
    "    joke_text = joke_text.replace('.', '. ').strip() # remove period no space\n",
    "    return joke_text"
   ]
  },
  {
   "cell_type": "code",
   "execution_count": 5,
   "metadata": {
    "collapsed": false
   },
   "outputs": [
    {
     "name": "stdout",
     "output_type": "stream",
     "text": [
      "A man visits the doctor.  The doctor says \"I have bad news for you. You have cancer and Alzheimer's disease\".  The man replies \"Well, thank God I don't have cancer!\"\n"
     ]
    }
   ],
   "source": [
    "# Example\n",
    "url_head = \"./jokes/init\"\n",
    "joke_num = '1'\n",
    "url = url_head + joke_num + '.html'\n",
    "joke1 = get_joke(url)\n",
    "print joke1"
   ]
  },
  {
   "cell_type": "code",
   "execution_count": 6,
   "metadata": {
    "collapsed": false
   },
   "outputs": [],
   "source": [
    "# All jokes\n",
    "jokeURLs = [\"./jokes/init\" + str(i) + '.html' for i in range(1,101)]\n",
    "jokesFull = [get_joke(url) for url in jokeURLs]\n",
    "jokesFullDict = {i : jokesFull[i] for i in range(len(jokesFull))}"
   ]
  },
  {
   "cell_type": "markdown",
   "metadata": {},
   "source": [
    "### Clean jokes further for classification\n",
    "* remove stopwords\n",
    "* remove punctuation\n",
    "* all lower case"
   ]
  },
  {
   "cell_type": "code",
   "execution_count": 7,
   "metadata": {
    "collapsed": true
   },
   "outputs": [],
   "source": [
    "import nltk\n",
    "import string"
   ]
  },
  {
   "cell_type": "code",
   "execution_count": 8,
   "metadata": {
    "collapsed": false
   },
   "outputs": [],
   "source": [
    "# Remove stopwords and punctuation\n",
    "stopwords = nltk.corpus.stopwords.words('english')\n",
    "stopwords.append('q')\n",
    "punc = set(string.punctuation)\n",
    "\n",
    "jokesClean = []\n",
    "\n",
    "for joke in jokesFull:\n",
    "    jokePunc = ''.join(char for char in joke if char not in punc)   \n",
    "    jokeStripped = [word for word in jokePunc.split() if word.lower() not in stopwords]\n",
    "    jokeLower = [j.lower() for j in jokeStripped]\n",
    "    jokesClean.append(str(\" \".join(jokeLower)))\n",
    "\n",
    "jokesCleanDict = {i : jokesClean[i] for i in range(len(jokesClean))}"
   ]
  },
  {
   "cell_type": "markdown",
   "metadata": {},
   "source": [
    "### Export full and cleaned jokes"
   ]
  },
  {
   "cell_type": "code",
   "execution_count": 10,
   "metadata": {
    "collapsed": false
   },
   "outputs": [],
   "source": [
    "import pickle\n",
    "pickle.dump( jokesFullDict, open( \"jokesFull.p\", \"wb\" ) )\n",
    "pickle.dump( jokesCleanDict, open( \"jokesClean.p\", \"wb\" ) )"
   ]
  }
 ],
 "metadata": {
  "kernelspec": {
   "display_name": "Python 2",
   "language": "python",
   "name": "python2"
  },
  "language_info": {
   "codemirror_mode": {
    "name": "ipython",
    "version": 2
   },
   "file_extension": ".py",
   "mimetype": "text/x-python",
   "name": "python",
   "nbconvert_exporter": "python",
   "pygments_lexer": "ipython2",
   "version": "2.7.10"
  }
 },
 "nbformat": 4,
 "nbformat_minor": 0
}
