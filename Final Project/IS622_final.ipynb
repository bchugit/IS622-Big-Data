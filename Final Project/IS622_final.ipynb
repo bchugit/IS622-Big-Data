{
 "cells": [
  {
   "cell_type": "markdown",
   "metadata": {},
   "source": [
    "# What's So Funny?\n",
    "## IS622 Final Project\n",
    "### Brian Chu | December 20, 2015"
   ]
  },
  {
   "cell_type": "markdown",
   "metadata": {},
   "source": [
    "Sense of humor is a tricky, if not impossible concept to quantify. Some argue that it is an abstract concept that cannot be measured, much like love and happiness. Others propose that context clues, cultural norms (3), or even biological traits contribute to the formula of funny.  \n",
    "  \n",
    "In this project, I look at sense of humor from the perspective of written jokes and try to see if commonalities can be discerned using collaborative filtering and content-based recommendation system techniques. A secondary objective is determining whether sense of humor can be better predicted by similarity with other persons or by specific joke features. Finally, I aim to improve on common recommendation system models by investigating a multi-stage approach using clustering."
   ]
  },
  {
   "cell_type": "code",
   "execution_count": 1,
   "metadata": {
    "collapsed": false
   },
   "outputs": [
    {
     "name": "stdout",
     "output_type": "stream",
     "text": [
      "Welcome to\n",
      "      ____              __\n",
      "     / __/__  ___ _____/ /__\n",
      "    _\\ \\/ _ \\/ _ `/ __/  '_/\n",
      "   /__ / .__/\\_,_/_/ /_/\\_\\   version 1.5.1\n",
      "      /_/\n",
      "\n",
      "Using Python version 2.7.10 (default, Oct 14 2015 16:09:02)\n",
      "SparkContext available as sc, HiveContext available as sqlContext.\n"
     ]
    }
   ],
   "source": [
    "import os\n",
    "import sys\n",
    "\n",
    "# Path for Spark source folder\n",
    "os.environ['SPARK_HOME']=\"/home/brian/workspace/cuny_msda_is622/spark-1.5.1-bin-hadoop2.6\"\n",
    "\n",
    "# Append pyspark to Python Path\n",
    "sys.path.append(\"/home/brian/workspace/cuny_msda_is622/spark-1.5.1-bin-hadoop2.6/python/\")\n",
    "\n",
    "# Append py4j to Python Path\n",
    "sys.path.append(\"/home/brian/workspace/cuny_msda_is622/spark-1.5.1-bin-hadoop2.6/python/lib/py4j-0.8.2.1-src.zip\")\n",
    "\n",
    "# Launch Spark\n",
    "execfile(\"/home/brian/workspace/cuny_msda_is622/spark-1.5.1-bin-hadoop2.6/python/pyspark/shell.py\")\n",
    "\n",
    "%qtconsole\n",
    "%matplotlib inline"
   ]
  },
  {
   "cell_type": "markdown",
   "metadata": {},
   "source": [
    "# Part 0: Load and clean data"
   ]
  },
  {
   "cell_type": "code",
   "execution_count": 2,
   "metadata": {
    "collapsed": false
   },
   "outputs": [],
   "source": [
    "# Load required packages\n",
    "from pyspark.sql import SQLContext\n",
    "import numpy as np\n",
    "import pandas as pd\n",
    "import math"
   ]
  },
  {
   "cell_type": "markdown",
   "metadata": {},
   "source": [
    "### Dataset: Jester Online Joke Recommender System\n",
    "**http://eigentaste.berkeley.edu/dataset/**  \n",
    "Eigentaste: A Constant Time Collaborative Filtering Algorithm. Ken Goldberg, Theresa Roeder, Dhruv Gupta, and Chris Perkins. Information Retrieval, 4(2), 133-151. July 2001.  \n",
    "  \n",
    "This dataset includes 1,805,072 ratings on a scale of [-10, 10] of up to 100 jokes by 24,983 users."
   ]
  },
  {
   "cell_type": "code",
   "execution_count": 3,
   "metadata": {
    "collapsed": false
   },
   "outputs": [],
   "source": [
    "jester = sc.textFile(\"jester2.csv\")\n",
    "\n",
    "# Create RDD, DataFrame, and Pandas objects\n",
    "jrdd = jester.map(lambda line: line.split(\",\"))\n",
    "jdf = jrdd.toDF()"
   ]
  },
  {
   "cell_type": "markdown",
   "metadata": {},
   "source": [
    "Recode missing data (99) to zeroes and normalize to 0 mean and 1 standard deviation."
   ]
  },
  {
   "cell_type": "code",
   "execution_count": 4,
   "metadata": {
    "collapsed": false,
    "scrolled": true
   },
   "outputs": [],
   "source": [
    "from sklearn import preprocessing\n",
    "\n",
    "jpd = jdf.toPandas()\n",
    "jpd.iloc[:,1:] = jpd.iloc[:,1:].astype(float)\n",
    "jpd[jpd == 99.] = 0\n",
    "jpd.iloc[:,1:] = preprocessing.normalize(jpd.iloc[:,1:])\n",
    "\n",
    "# Create PySpark dataframe\n",
    "sqlc = SQLContext(sc)\n",
    "jdf = sqlc.createDataFrame(jpd)"
   ]
  },
  {
   "cell_type": "markdown",
   "metadata": {},
   "source": [
    "# Part 1: Collaborative Filtering Recommendations\n",
    "\n",
    "### PySpark MLlib  \n",
    "I am going to use PySpark's MLlib package, which incorporates collaborative filtering using the Alternating Least Squares (ALS) algorithm to predict missing entries. ALS aims to minimize the squared error of the UV user-item rating matrix by alternating learning sequences of U to V and V to U until a steady-state has been reached. This is similar to the collaborative filtering theory discussed in the MMS text.  \n",
    "  \n",
    "### Modified source code:  \n",
    "http://spark.apache.org/docs/latest/mllib-collaborative-filtering.html  \n",
    "https://databricks-training.s3.amazonaws.com/movie-recommendation-with-mllib.html"
   ]
  },
  {
   "cell_type": "markdown",
   "metadata": {},
   "source": [
    "**MLlib ALS requires a Ratings object, which is a tuple in the format (userID, itemID, itemRating)**"
   ]
  },
  {
   "cell_type": "code",
   "execution_count": 8,
   "metadata": {
    "collapsed": false,
    "scrolled": true
   },
   "outputs": [
    {
     "data": {
      "text/plain": [
       "[(u'1', 1, -0.12541000876329006),\n",
       " (u'1', 2, 0.1409659817173043),\n",
       " (u'1', 3, -0.1549182461193583),\n",
       " (u'1', 4, -0.13086261783995484),\n",
       " (u'1', 5, -0.12059888310740936)]"
      ]
     },
     "execution_count": 8,
     "metadata": {},
     "output_type": "execute_result"
    }
   ],
   "source": [
    "# Create Ratings object required for MLlib ALS train function\n",
    "# Exclude not rated entries for model training; will be used for testing and predicting\n",
    "\n",
    "ratings = jdf.flatMap(lambda line: [(line[0], i, line[i]) for i in range(1,101) if line[i]!=0])\n",
    "\n",
    "# View snippet of Ratings object\n",
    "ratings.collect()[:5]"
   ]
  },
  {
   "cell_type": "markdown",
   "metadata": {},
   "source": [
    "**Check the number of users, jokes, and ratings in our dataframe**"
   ]
  },
  {
   "cell_type": "code",
   "execution_count": 9,
   "metadata": {
    "collapsed": false
   },
   "outputs": [
    {
     "name": "stdout",
     "output_type": "stream",
     "text": [
      "Got 1805072 ratings from 24983 users on 100 jokes.\n"
     ]
    }
   ],
   "source": [
    "numRatings = ratings.count()\n",
    "numUsers = ratings.map(lambda r: r[0]).distinct().count()\n",
    "numJokes = ratings.map(lambda r: r[1]).distinct().count()\n",
    "\n",
    "print \"Got %d ratings from %d users on %d jokes.\" % (numRatings, numUsers, numJokes)"
   ]
  },
  {
   "cell_type": "markdown",
   "metadata": {},
   "source": [
    "**Randomly divide ratings into a 75% training and 25% testing set**"
   ]
  },
  {
   "cell_type": "code",
   "execution_count": 10,
   "metadata": {
    "collapsed": false
   },
   "outputs": [
    {
     "name": "stdout",
     "output_type": "stream",
     "text": [
      "Rated Jokes for All Users\n",
      "Training set: 1353794\n",
      "Test set: 451278\n"
     ]
    }
   ],
   "source": [
    "ratingsTrain, ratingsTest = ratings.randomSplit([0.75, 0.25], seed = 85)\n",
    "\n",
    "# Check number of ratings in each set\n",
    "print \"Rated Jokes for All Users\"\n",
    "print \"Training set: %d\" %(len(ratingsTrain.collect()))\n",
    "print \"Test set: %d\" %(len(ratingsTest.collect()))"
   ]
  },
  {
   "cell_type": "markdown",
   "metadata": {},
   "source": [
    "### Train the recommendation model using ALS"
   ]
  },
  {
   "cell_type": "code",
   "execution_count": 11,
   "metadata": {
    "collapsed": false
   },
   "outputs": [],
   "source": [
    "from pyspark.mllib.recommendation import ALS, Rating\n",
    "\n",
    "# Set parameters\n",
    "rank = 5\n",
    "numIterations = 10\n",
    "\n",
    "# Train model with training data\n",
    "cf_model = ALS.train(ratingsTrain, rank, numIterations)"
   ]
  },
  {
   "cell_type": "markdown",
   "metadata": {},
   "source": [
    "**Check model accuracy and error**"
   ]
  },
  {
   "cell_type": "code",
   "execution_count": 12,
   "metadata": {
    "collapsed": false
   },
   "outputs": [
    {
     "data": {
      "text/plain": [
       "[((5993, 77), (0.0704940933797176, -0.025000301990477758)),\n",
       " ((17350, 18), (0.17554646970416904, 0.0075514910891676945)),\n",
       " ((21952, 22), (0.10988728506862236, 0.07921825207622626))]"
      ]
     },
     "execution_count": 12,
     "metadata": {},
     "output_type": "execute_result"
    }
   ],
   "source": [
    "ratingsTest = sc.parallelize(ratingsTest.collect())\n",
    "cf_test = cf_model.predictAll(ratingsTest.map(lambda p: (p[0], p[1]))).map(lambda r: ((r[0], r[1]), r[2]))\n",
    "\n",
    "# format [(userID, jokeID), (actual rating, predicted rating)]\n",
    "cf_results = ratingsTest.map(lambda r: ((int(r[0]), r[1]), r[2])).join(cf_test)\n",
    "cf_results = sc.parallelize(cf_results.collect())\n",
    "\n",
    "# Example output\n",
    "cf_results.collect()[:3]"
   ]
  },
  {
   "cell_type": "code",
   "execution_count": 108,
   "metadata": {
    "collapsed": false
   },
   "outputs": [
    {
     "name": "stdout",
     "output_type": "stream",
     "text": [
      "Mean Squared Error = 0.009\n",
      "Root Mean Squared Error = 0.079 \n",
      "Mean Absolute Error = 0.076\n"
     ]
    }
   ],
   "source": [
    "MSE_cf = cf_results.map(lambda r: (r[1][0] - r[1][1])**2).mean()\n",
    "print \"Mean Squared Error = %.3f\" %(MSE_cf)\n",
    "\n",
    "RMSE_cf = math.sqrt(MSE)\n",
    "print \"Root Mean Squared Error = %.3f \" %(RMSE_cf)\n",
    "\n",
    "MAE_cf = cf_results.map(lambda r: abs((r[1][0] - r[1][1]))).mean()\n",
    "print \"Mean Absolute Error = %.3f\" %(MAE_cf)"
   ]
  },
  {
   "cell_type": "markdown",
   "metadata": {},
   "source": [
    "### Make recommendations using CF model and set of jokes not rated"
   ]
  },
  {
   "cell_type": "code",
   "execution_count": 14,
   "metadata": {
    "collapsed": false
   },
   "outputs": [],
   "source": [
    "# Separate out rated and not rated jokes for a specific user\n",
    "\n",
    "def get_rated_notRated(user_num, ratings_all):\n",
    "    \n",
    "    jokeID = list(range(1, numJokes + 1))\n",
    "    userID = str(user_num)\n",
    "\n",
    "    # User's rated jokes\n",
    "    uRatings = [(j,r) for (u,j,r) in ratings_all.collect() if u==userID]\n",
    "    jokes_rated = [j[0] for j in uRatings]\n",
    "    jokes_notRated = [j for j in jokeID if j not in jokes_rated]\n",
    "    \n",
    "    return (jokes_rated, jokes_notRated)"
   ]
  },
  {
   "cell_type": "code",
   "execution_count": 15,
   "metadata": {
    "collapsed": false
   },
   "outputs": [
    {
     "name": "stdout",
     "output_type": "stream",
     "text": [
      "Rated jokes: 74\n",
      "Unrated jokes: 26\n"
     ]
    }
   ],
   "source": [
    "# Example\n",
    "user = 1\n",
    "u1 = get_rated_notRated(user, ratings)\n",
    "print \"Rated jokes: %d\" %(len(u1[0]))\n",
    "print \"Unrated jokes: %d\" %(len(u1[1]))"
   ]
  },
  {
   "cell_type": "markdown",
   "metadata": {},
   "source": [
    "#### Predicted ratings"
   ]
  },
  {
   "cell_type": "code",
   "execution_count": 16,
   "metadata": {
    "collapsed": true
   },
   "outputs": [],
   "source": [
    "# Get predicted ratings for jokes not previously rated\n",
    "\n",
    "def get_cf_recs(user, unratedIDs, model):\n",
    "    \n",
    "    unratedIDs = sc.parallelize(set(unratedIDs))\n",
    "    cf_predictions = model.predictAll(unratedIDs.map(lambda x: (user, x))).collect()\n",
    "    cf_predictions = sorted(cf_predictions, key=lambda k: k[2], reverse=True)\n",
    "    \n",
    "    return cf_predictions"
   ]
  },
  {
   "cell_type": "code",
   "execution_count": 17,
   "metadata": {
    "collapsed": true
   },
   "outputs": [],
   "source": [
    "# Blank dictionary to hold all CF recommendations for all users\n",
    "cf_recs = {}"
   ]
  },
  {
   "cell_type": "code",
   "execution_count": 18,
   "metadata": {
    "collapsed": false
   },
   "outputs": [
    {
     "name": "stdout",
     "output_type": "stream",
     "text": [
      "Recommended jokes for User 13 (score out of 10): \n",
      "\n",
      "JokeID: 89    Predicted rating: 0.15\n",
      "JokeID: 72    Predicted rating: 0.14\n",
      "JokeID: 76    Predicted rating: 0.12\n",
      "JokeID: 83    Predicted rating: 0.12\n",
      "JokeID: 12    Predicted rating: 0.12\n"
     ]
    }
   ],
   "source": [
    "# Example - top 5 recommendations for User 13\n",
    "user_num = 13\n",
    "user_rated, user_notRated = get_rated_notRated(user_num, ratings)\n",
    "\n",
    "if user_notRated:\n",
    "    cf_recs[user_num] = get_cf_recs(user_num, user_notRated, cf_model)\n",
    "    print \"Recommended jokes for User %d (score out of 10): \\n\" %(user_num)\n",
    "    for i in cf_recs[user_num][:5]:\n",
    "        print \"JokeID: %d    Predicted rating: %.2f\" %(i[1], i[2])\n",
    "else: \n",
    "    print \"No unrated jokes for User %d\" %(user_num)"
   ]
  },
  {
   "cell_type": "markdown",
   "metadata": {},
   "source": [
    "**Print full joke of the top 5 recommendations**"
   ]
  },
  {
   "cell_type": "code",
   "execution_count": 19,
   "metadata": {
    "collapsed": true
   },
   "outputs": [],
   "source": [
    "import pickle\n",
    "jokesFull = pickle.load(open( \"jokesFull.p\", \"rb\" ) )"
   ]
  },
  {
   "cell_type": "code",
   "execution_count": 20,
   "metadata": {
    "collapsed": false
   },
   "outputs": [
    {
     "name": "stdout",
     "output_type": "stream",
     "text": [
      "Joke #89:\n",
      "Q: How many programmers does it take to change a lightbulb? A: NONE! That's a hardware problem. . . .\n",
      "\n",
      "Joke #72:\n",
      "Q: What is the difference between George Washington,  Richard Nixon,  and Bill Clinton? A: Washington couldn't tell a lie,  Nixon couldn't tell the truth,  and Clinton doesn't know the difference.\n",
      "\n",
      "Joke #76:\n",
      "If pro- is the opposite of con- then congress must be the opposite of progress.\n",
      "\n",
      "Joke #83:\n",
      "Q: What is the difference between Mechanical Engineers and Civil Engineers? A: Mechanical Engineers build weapons,  Civil Engineers build targets.\n",
      "\n",
      "Joke #12:\n",
      "They asked the Japanese visitor if they have elections in his country.  \"Every Morning\" he answers.\n",
      "\n"
     ]
    }
   ],
   "source": [
    "user_num = 13\n",
    "for i in cf_recs[user_num][:5]:\n",
    "    print \"Joke #%d:\" %(i[1])\n",
    "    print jokesFull[i[1]] +\"\\n\""
   ]
  },
  {
   "cell_type": "markdown",
   "metadata": {},
   "source": [
    "# Part 2: Content-Based Recommendations \n",
    "### Create Item (Joke) Profile"
   ]
  },
  {
   "cell_type": "markdown",
   "metadata": {},
   "source": [
    "#### Get corpus of jokes (documents)\n",
    "* Use cleaned jokes stripped of stopwords and punctuation for better classification"
   ]
  },
  {
   "cell_type": "code",
   "execution_count": 21,
   "metadata": {
    "collapsed": false
   },
   "outputs": [],
   "source": [
    "jokesClean = pickle.load(open( \"jokesClean.p\", \"rb\" ) )\n",
    "\n",
    "# Assemble corpus as one file, split by new line\n",
    "with open('jokesClean.txt', 'w') as jc:\n",
    "    for k,v in jokesClean.iteritems():\n",
    "      jc.write(\"%s\\n\" % v)"
   ]
  },
  {
   "cell_type": "code",
   "execution_count": 22,
   "metadata": {
    "collapsed": false
   },
   "outputs": [
    {
     "data": {
      "text/plain": [
       "100"
      ]
     },
     "execution_count": 22,
     "metadata": {},
     "output_type": "execute_result"
    }
   ],
   "source": [
    "# Load into Spark - should have 100 jokes\n",
    "documents = sc.textFile(\"jokesClean.txt\").map(lambda line: line.split(\" \"))\n",
    "documents.count()"
   ]
  },
  {
   "cell_type": "markdown",
   "metadata": {},
   "source": [
    "#### Feature extraction - use PySpark's tf.idf function  \n",
    "\n",
    "http://spark.apache.org/docs/latest/mllib-feature-extraction.html#tf-idf"
   ]
  },
  {
   "cell_type": "code",
   "execution_count": 23,
   "metadata": {
    "collapsed": false
   },
   "outputs": [],
   "source": [
    "from pyspark.mllib.feature import HashingTF\n",
    "from pyspark.mllib.linalg import Vectors\n",
    "from pyspark.mllib.feature import IDF\n",
    "\n",
    "hashingTF = HashingTF()\n",
    "tf = hashingTF.transform(documents)\n",
    "\n",
    "tf.cache()\n",
    "idf = IDF().fit(tf)\n",
    "tfidf = idf.transform(tf)"
   ]
  },
  {
   "cell_type": "code",
   "execution_count": 24,
   "metadata": {
    "collapsed": false
   },
   "outputs": [
    {
     "data": {
      "text/plain": [
       "SparseVector(1048576, {47054: 3.922, 183558: 7.8439, 285677: 3.922, 397847: 2.2172, 419033: 3.0057, 518276: 1.2478, 582313: 3.5165, 605676: 2.4179, 608735: 3.5638, 611077: 2.3125, 640114: 3.2288, 641573: 3.922, 904615: 6.4577, 985518: 3.922})"
      ]
     },
     "execution_count": 24,
     "metadata": {},
     "output_type": "execute_result"
    }
   ],
   "source": [
    "# Example\n",
    "joke_features = tfidf.collect()\n",
    "joke_features[0]"
   ]
  },
  {
   "cell_type": "markdown",
   "metadata": {},
   "source": [
    "#### Calculate cosine similarity"
   ]
  },
  {
   "cell_type": "code",
   "execution_count": 25,
   "metadata": {
    "collapsed": false
   },
   "outputs": [],
   "source": [
    "import math\n",
    "def cosine_similarity(v1, v2):\n",
    "    dotprod = v1.dot(v2)\n",
    "    sqdist = v1.squared_distance(v2)\n",
    "    cosine_angle = dotprod / sqdist\n",
    "    \n",
    "    try:\n",
    "        cosine_distance = math.acos(cosine_angle) * (180/math.pi)\n",
    "    except:\n",
    "        cosine_distance = 90.0\n",
    "    \n",
    "#     return np.round(cosine_distance, 2)\n",
    "    return np.round(cosine_angle, 5)"
   ]
  },
  {
   "cell_type": "code",
   "execution_count": 26,
   "metadata": {
    "collapsed": false
   },
   "outputs": [
    {
     "name": "stdout",
     "output_type": "stream",
     "text": [
      "0.5\n"
     ]
    }
   ],
   "source": [
    "# Test using PySpark sparse vectors\n",
    "sv1 = Vectors.sparse(3, [0,1,2], [1.0,2.0,-1.0])\n",
    "sv2 = Vectors.sparse(3, [0,1,2], [2.0,1.0,1.0])\n",
    "print cosine_similarity(sv1, sv2) # should be 0.5"
   ]
  },
  {
   "cell_type": "code",
   "execution_count": 27,
   "metadata": {
    "collapsed": false
   },
   "outputs": [
    {
     "name": "stdout",
     "output_type": "stream",
     "text": [
      "0.20842\n"
     ]
    }
   ],
   "source": [
    "# Example cosine distance Joke 1 and 87\n",
    "print cosine_similarity(joke_features[0], joke_features[86])"
   ]
  },
  {
   "cell_type": "code",
   "execution_count": 28,
   "metadata": {
    "collapsed": false
   },
   "outputs": [
    {
     "name": "stdout",
     "output_type": "stream",
     "text": [
      "A man visits the doctor.  The doctor says \"I have bad news for you. You have cancer and Alzheimer's disease\".  The man replies \"Well, thank God I don't have cancer!\"\n",
      "\n",
      "A man,  recently completing a routine physical examination receives a phone call from his doctor.  The doctor says,  \"I have some good news and some bad news. \" The man says,  \"OK,  give me the good news first. \" The doctor says,  \"The good news is,  you have 24 hours to live. \" The man replies,  \"Shit! That's the good news? Then what's the bad news?\" The doctor says,  \"The bad news is,  I forgot to call you yesterday. \"\n"
     ]
    }
   ],
   "source": [
    "print jokesFull[0]\n",
    "print\n",
    "print jokesFull[86]"
   ]
  },
  {
   "cell_type": "markdown",
   "metadata": {},
   "source": [
    "> Model seems good, both jokes relate to medical humor"
   ]
  },
  {
   "cell_type": "markdown",
   "metadata": {},
   "source": [
    "### Create User Profile  \n",
    "\n",
    "* Weight each joke's features by user rating\n",
    "* Output sparse vector of user's feature rating preference"
   ]
  },
  {
   "cell_type": "code",
   "execution_count": 29,
   "metadata": {
    "collapsed": true
   },
   "outputs": [],
   "source": [
    "# Function to add two sparse vectors together - needed to aggregate user features for all jokes\n",
    "# Source: http://stackoverflow.com/questions/32981875/how-to-add-two-sparse-vectors-in-spark-using-python\n",
    "\n",
    "from pyspark.mllib.linalg import SparseVector, DenseVector\n",
    "\n",
    "def add(v1, v2):\n",
    "    \"\"\"Add two sparse vectors\n",
    "    >>> v1 = Vectors.sparse(3, {0: 1.0, 2: 1.0})\n",
    "    >>> v2 = Vectors.sparse(3, {1: 1.0})\n",
    "    >>> add(v1, v2)\n",
    "    SparseVector(3, {0: 1.0, 1: 1.0, 2: 1.0})\n",
    "    \"\"\"\n",
    "    assert isinstance(v1, SparseVector) and isinstance(v2, SparseVector)\n",
    "    assert v1.size == v2.size \n",
    "    # Compute union of indices\n",
    "    indices = set(v1.indices).union(set(v2.indices))\n",
    "    # Not particularly efficient but we are limited by SPARK-10973\n",
    "    # Create index: value dicts\n",
    "    v1d = dict(zip(v1.indices, v1.values))\n",
    "    v2d = dict(zip(v2.indices, v2.values))\n",
    "    zero = np.float64(0)\n",
    "    # Create dictionary index: (v1[index] + v2[index])\n",
    "    values =  {i: v1d.get(i, zero) + v2d.get(i, zero)\n",
    "       for i in indices\n",
    "       if v1d.get(i, zero) + v2d.get(i, zero) != zero}\n",
    "\n",
    "    return Vectors.sparse(v1.size, values)\n",
    "\n",
    "SparseVector.__add__ = add"
   ]
  },
  {
   "cell_type": "code",
   "execution_count": 30,
   "metadata": {
    "collapsed": false
   },
   "outputs": [],
   "source": [
    "# User profile based on rated jokes\n",
    "def get_user_profile(user_num):\n",
    "    features = tfidf.collect()\n",
    "    user_profile = features[0]\n",
    "    user_ratings = jdf.collect()[user_num - 1]\n",
    "    for i in range(1, len(features)):\n",
    "        if user_ratings[i] != 0:\n",
    "            features[i].values = features[i].values * user_ratings[i+1]\n",
    "            user_profile = user_profile + features[i]\n",
    "    return user_profile"
   ]
  },
  {
   "cell_type": "markdown",
   "metadata": {},
   "source": [
    "### Make content-based recommendations  \n",
    "* Aggregate user-item profiles for a specified user"
   ]
  },
  {
   "cell_type": "code",
   "execution_count": 57,
   "metadata": {
    "collapsed": false
   },
   "outputs": [],
   "source": [
    "# Content-based recommendations\n",
    "def get_content_recs(user_profile, user_notRated):\n",
    "    \n",
    "    # Similarity - all jokes\n",
    "    similarity_all = [{i+1 : cosine_similarity(joke_features[i], user_profile)} for i in range(len(jokesFull))]\n",
    "\n",
    "    # Similarity - not rated jokes only\n",
    "    notRated = sc.parallelize(set(user_notRated))\n",
    "    similarity_notRated = notRated.map(lambda x: (x, similarity_all[x-1][x])).collect()\n",
    "    similarity_notRated = sorted(similarity_notRated , key=lambda k: k[1], reverse=True)\n",
    "    return similarity_notRated"
   ]
  },
  {
   "cell_type": "code",
   "execution_count": 35,
   "metadata": {
    "collapsed": true
   },
   "outputs": [],
   "source": [
    "# Blank dictionary to hold all CB recommendations for all users\n",
    "content_recs = {}"
   ]
  },
  {
   "cell_type": "code",
   "execution_count": 58,
   "metadata": {
    "collapsed": false
   },
   "outputs": [
    {
     "name": "stdout",
     "output_type": "stream",
     "text": [
      "Recommended jokes for User 13: \n",
      "\n",
      "JokeID: 1    Similarity distance: 0.35\n",
      "JokeID: 87    Similarity distance: 0.17\n",
      "JokeID: 92    Similarity distance: 0.07\n",
      "JokeID: 76    Similarity distance: 0.07\n",
      "JokeID: 88    Similarity distance: 0.06\n"
     ]
    }
   ],
   "source": [
    "# Example - top 5 recommendations for User 13\n",
    "user_num = 13\n",
    "user_rated, user_notRated = get_rated_notRated(user_num, ratings)\n",
    "\n",
    "if user_notRated:\n",
    "    up = get_user_profile(user_num)\n",
    "    content_recs[user_num] = get_content_recs(up, user_notRated)\n",
    "    print \"Recommended jokes for User %d: \\n\" %(user_num)\n",
    "    for i in content_recs[user_num][:5]:       \n",
    "        print \"JokeID: %d    Similarity distance: %.2f\" %(i[0], i[1])\n",
    "else: \n",
    "    print \"No unrated jokes for User %d\" %(user_num)"
   ]
  },
  {
   "cell_type": "markdown",
   "metadata": {},
   "source": [
    "** Recommended jokes**"
   ]
  },
  {
   "cell_type": "code",
   "execution_count": 60,
   "metadata": {
    "collapsed": false
   },
   "outputs": [
    {
     "name": "stdout",
     "output_type": "stream",
     "text": [
      "Joke #87:\n",
      "A Czechoslovakian man felt his eyesight was growing steadily worse,  and felt it was time to go see an optometrist.  The doctor started with some simple testing,  and showed him a standard eye chart with letters of diminishing size: CRKBNWXSKZY.  .  .  \"Can you read this?\" the doctor asked.  \"Read it?\" the Czech answered.  \"Doc,  I know him!\"\n",
      "\n",
      "Joke #92:\n",
      "Reaching the end of a job interview,  the human resources person asked a young engineer fresh out of Stanford,  \"And what starting salary were you looking for?\" The engineer said,  \"In the neighborhood of $125, 000 a year,  depending on the benefits package. \" The interviewer said,  \"Well,  what would you say to a package of 5-weeks vacation,  14 paid holidays,  full medical and dental,  company matching retirement fund to 50% of salary,  and a company car leased every 2 years - say,  a red Corvette?\" The Engineer sat up straight and said,  \"Wow! Are you kidding?\" And the interviewer replied,  \"Yeah,  but you started it. \"\n",
      "\n",
      "Joke #76:\n",
      "If pro- is the opposite of con- then congress must be the opposite of progress.\n",
      "\n",
      "Joke #88:\n",
      "A radio conversation of a US naval ship with Canadian authorities . . .  Americans: Please divert your course 15 degrees to the North to avoid a collision.  Canadians: Recommend you divert YOUR course 15 degrees to the South to avoid a collision.  Americans: This is the Captain of a US Navy ship.  I say again,  divert YOUR course.  Canadians: No.  I say again,  you divert YOUR course.  Americans: This is the aircraft carrier USS LINCOLN,  the second largest ship in the United States' Atlantic Fleet.  We are accompanied by three destroyers,  three cruisers and numerous support vessels.  I demand that you change your course 15 degrees north,  that's ONE FIVE DEGREES NORTH,  or counter-measures will be undertaken to ensure the safety of this ship.  Canadians: This is a lighthouse.  Your call.\n",
      "\n"
     ]
    }
   ],
   "source": [
    "user_num = 13\n",
    "for i in content_recs[user_num][1:5]:\n",
    "    print \"Joke #%d:\" %(i[0])\n",
    "    print jokesFull[i[0]] +\"\\n\""
   ]
  },
  {
   "cell_type": "markdown",
   "metadata": {},
   "source": [
    "# Part 3: Compare CF and CB"
   ]
  },
  {
   "cell_type": "code",
   "execution_count": 38,
   "metadata": {
    "collapsed": false
   },
   "outputs": [
    {
     "name": "stdout",
     "output_type": "stream",
     "text": [
      "Rated Jokes for User 13\n",
      "\n",
      "Total rated: 47\n",
      "Training set: 37\n",
      "Test set: 10\n"
     ]
    }
   ],
   "source": [
    "# Divide ratings into test and training set\n",
    "user_num = 13\n",
    "rall = ratings.filter(lambda x: x[0]==str(user_num))\n",
    "\n",
    "rtrain, rtest = rall.randomSplit([0.75, 0.25], seed = 85)\n",
    "rtrainIDs = [x[1] for x in rtrain.collect()]\n",
    "rtestIDs = [x[1] for x in rtest.collect()]\n",
    "\n",
    "print \"Rated Jokes for User %d\\n\" %(user_num)\n",
    "print \"Total rated: %d\" %(rall.count())\n",
    "print \"Training set: %d\" %(len(rtrainIDs))\n",
    "print \"Test set: %d\" %(len(rtestIDs))"
   ]
  },
  {
   "cell_type": "code",
   "execution_count": 39,
   "metadata": {
    "collapsed": false
   },
   "outputs": [
    {
     "data": {
      "text/plain": [
       "5"
      ]
     },
     "execution_count": 39,
     "metadata": {},
     "output_type": "execute_result"
    }
   ],
   "source": [
    "# Top N recommendations \n",
    "\n",
    "N = 0.5 # N percent of test set to recommend\n",
    "n = int(math.ceil(N * len(rtestIDs)))\n",
    "n"
   ]
  },
  {
   "cell_type": "markdown",
   "metadata": {},
   "source": [
    "### Get Actual Test Set Top N Recommendations"
   ]
  },
  {
   "cell_type": "code",
   "execution_count": 40,
   "metadata": {
    "collapsed": true
   },
   "outputs": [],
   "source": [
    "# Get top test set results based on actual ratings\n",
    "def get_actual_rec(test_set, n):\n",
    "    test_set = test_set.sortBy(lambda x: x[2], ascending=False)\n",
    "    test_IDs = [x[1] for x in test_set.collect()]\n",
    "    top_IDs = [x[1] for x in test_set.collect()[:n]]\n",
    "    return top_IDs"
   ]
  },
  {
   "cell_type": "code",
   "execution_count": 41,
   "metadata": {
    "collapsed": false
   },
   "outputs": [
    {
     "name": "stdout",
     "output_type": "stream",
     "text": [
      "[49, 36, 93, 45, 28]\n"
     ]
    }
   ],
   "source": [
    "topTestIDs = get_actual_rec(rtest, n)\n",
    "print topTestIDs"
   ]
  },
  {
   "cell_type": "markdown",
   "metadata": {},
   "source": [
    "### Get Collaborative Filtering Top N Recommendations"
   ]
  },
  {
   "cell_type": "code",
   "execution_count": 42,
   "metadata": {
    "collapsed": false
   },
   "outputs": [
    {
     "name": "stdout",
     "output_type": "stream",
     "text": [
      "[36, 49, 42, 93, 28]\n"
     ]
    }
   ],
   "source": [
    "# Get top CF recommendations\n",
    "compare_cf = get_cf_recs(user_num, rtestIDs, cf_model)\n",
    "topCFIDs = [x[1] for x in compare_cf[:n]]\n",
    "print topCFIDs"
   ]
  },
  {
   "cell_type": "markdown",
   "metadata": {},
   "source": [
    "### Get Content-based Top N Recommendations"
   ]
  },
  {
   "cell_type": "code",
   "execution_count": 43,
   "metadata": {
    "collapsed": false
   },
   "outputs": [],
   "source": [
    "# Update user profile function for train/test purposes\n",
    "# Remove testIDs from user profile since they are equal to 'not rated'\n",
    "def get_user_profile_topN(user_num, testIDs):\n",
    "    features = tfidf.collect()\n",
    "    user_profile = features[0]\n",
    "    user_ratings = jdf.collect()[user_num - 1]\n",
    "    for i in range(1, len(features)):\n",
    "        if (user_ratings[i] != 0 and i not in testIDs):\n",
    "            features[i].values = features[i].values * user_ratings[i+1]\n",
    "            user_profile = user_profile + features[i]\n",
    "    return user_profile"
   ]
  },
  {
   "cell_type": "code",
   "execution_count": 61,
   "metadata": {
    "collapsed": false
   },
   "outputs": [
    {
     "name": "stdout",
     "output_type": "stream",
     "text": [
      "[28, 49, 63, 36, 45]\n"
     ]
    }
   ],
   "source": [
    "# Get top content-based recommendations\n",
    "up_comp = get_user_profile_topN(user_num, rtestIDs)\n",
    "compare_content = get_content_recs(up_comp, rtestIDs)\n",
    "topContentIDs = [x[0] for x in compare_content[:n]]\n",
    "print topContentIDs"
   ]
  },
  {
   "cell_type": "markdown",
   "metadata": {},
   "source": [
    "### Wrap all of the above into one function"
   ]
  },
  {
   "cell_type": "code",
   "execution_count": 45,
   "metadata": {
    "collapsed": true
   },
   "outputs": [],
   "source": [
    "def make_traintest_sets(ratings_base, user_num):\n",
    "    \n",
    "    rall = ratings_base.filter(lambda x: x[0]==str(user_num))\n",
    "    rtrain, rtest = rall.randomSplit([0.75, 0.25], seed = 85)\n",
    "    rtrainIDs = [x[1] for x in rtrain.collect()]\n",
    "    rtestIDs = [x[1] for x in rtest.collect()]\n",
    "\n",
    "    return(rtrain, rtrainIDs, rtest, rtestIDs)\n",
    "\n",
    "def get_top_recommendations(user_num, rtest, rtestIDs, N):\n",
    "    \n",
    "    # N recommendations to return\n",
    "    n = int(math.ceil(N * len(rtestIDs)))\n",
    "    \n",
    "    # top Test\n",
    "    topTestIDs = get_actual_rec(rtest, n)\n",
    "    \n",
    "    # top CF\n",
    "    compare_cf = get_cf_recs(user_num, rtestIDs, cf_model)\n",
    "    topCFIDs = [x[1] for x in compare_cf[:n]]\n",
    "    \n",
    "    # top CB\n",
    "    up_comp = get_user_profile_topN(user_num, rtestIDs)\n",
    "    compare_content = get_content_recs(up_comp, rtestIDs)\n",
    "    topContentIDs = [x[0] for x in compare_content[:n]]\n",
    "    \n",
    "    return(topTestIDs, topCFIDs, topContentIDs)\n",
    "    "
   ]
  },
  {
   "cell_type": "code",
   "execution_count": 62,
   "metadata": {
    "collapsed": false
   },
   "outputs": [
    {
     "name": "stdout",
     "output_type": "stream",
     "text": [
      "[49, 36, 93, 45, 28]\n",
      "[36, 49, 42, 93, 28]\n",
      "[28, 49, 63, 36, 45]\n"
     ]
    }
   ],
   "source": [
    "user_num = 13\n",
    "trainSet, trainIDs, testSet, testIDs = make_traintest_sets(ratings, user_num)\n",
    "topTestIDs, topCFIDs, topContentIDs = get_top_recommendations(user_num, testSet, testIDs, 0.5)\n",
    "\n",
    "print topTestIDs\n",
    "print topCFIDs\n",
    "print topContentIDs"
   ]
  },
  {
   "cell_type": "markdown",
   "metadata": {},
   "source": [
    "## Accuracy Scores\n",
    "\n",
    "** Use precision, recall, and F1 to compare recommendation systems **\n",
    "\n",
    "**<a href=\"http://grouplens.org/site-content/uploads/evaluating-TOIS-20041.pdf\">Evaluating collaborative filtering recommender systems (2004)</a>**  \n",
    "Jonathan L. Herlocker , Joseph A. Konstan , Loren G. Terveen , John T. Riedl  \n",
    "  \n",
    "**<a href=\"http://research.microsoft.com/pubs/115396/EvaluationMetrics.TR.pdf\">Evaluating Recommendation Systems</a>**  \n",
    "Guy Shani and Asela Gunawardana"
   ]
  },
  {
   "cell_type": "code",
   "execution_count": 47,
   "metadata": {
    "collapsed": false
   },
   "outputs": [],
   "source": [
    "# Recommendation precision, recallm, F1-score\n",
    "import sklearn.metrics as sm\n",
    "\n",
    "def get_rec_accuracy(testRecs, compRecs, numTest, rec_rank=False):\n",
    "    \n",
    "    # Recommendation rank does not matter\n",
    "    if rec_rank:\n",
    "        \n",
    "        rec_precision = sm.precision_score(np.array(testRecs), np.array(compRecs), average='macro')\n",
    "        rec_recall = np.round((rec_precision * len(testRecs)) / float(numTest), 2)\n",
    "        rec_f1 = np.round((2 * rec_precision * rec_recall) / (rec_precision + rec_recall), 2)   \n",
    "\n",
    "    # Recommendation rank matters\n",
    "    else:    \n",
    "        matches = list(set(testRecs).intersection(compRecs))\n",
    "        rec_precision = np.round(len(matches) / float(len(testRecs)), 2)\n",
    "        rec_recall = np.round(len(matches) / float(numTest), 2)\n",
    "        rec_f1 = np.round((2 * rec_precision * rec_recall) / (rec_precision + rec_recall), 2)\n",
    "        \n",
    "    if np.isnan(rec_f1):\n",
    "        rec_f1 = 0\n",
    "    \n",
    "    return (rec_precision, rec_recall, rec_f1)"
   ]
  },
  {
   "cell_type": "markdown",
   "metadata": {},
   "source": [
    "### Collaborative filtering accuracy"
   ]
  },
  {
   "cell_type": "code",
   "execution_count": 49,
   "metadata": {
    "collapsed": false
   },
   "outputs": [
    {
     "name": "stdout",
     "output_type": "stream",
     "text": [
      "User 13\n",
      "\n",
      "Collaborative Filtering Accuracy - Excluding Recommendation Rank\n",
      "Precision: 0.80\n",
      "Recall: 0.40\n",
      "F1 score: 0.53\n",
      "\n",
      "Collaborative Filtering Accuracy - Including Recommendation Rank\n",
      "Precision: 0.17\n",
      "Recall: 0.08\n",
      "F1 score: 0.11\n",
      "\n"
     ]
    }
   ],
   "source": [
    "# Collaborative filtering accuracy\n",
    "numTest = len(testIDs)\n",
    "user_num = 13\n",
    "\n",
    "precisionCF, recallCF, f1CF = get_rec_accuracy(topTestIDs, topCFIDs, numTest, rec_rank=False)\n",
    "print \"User %d\\n\" %user_num\n",
    "print \"Collaborative Filtering Accuracy - Excluding Recommendation Rank\"\n",
    "print \"Precision: %.2f\" %precisionCF\n",
    "print \"Recall: %.2f\" %recallCF\n",
    "print \"F1 score: %.2f\\n\" %f1CF\n",
    "\n",
    "precisionCF_rank, recallCF_rank, f1CF_rank = get_rec_accuracy(topTestIDs, topCFIDs, numTest, rec_rank=True)\n",
    "print \"Collaborative Filtering Accuracy - Including Recommendation Rank\"\n",
    "print \"Precision: %.2f\" %precisionCF_rank\n",
    "print \"Recall: %.2f\" %recallCF_rank\n",
    "print \"F1 score: %.2f\\n\" %f1CF_rank"
   ]
  },
  {
   "cell_type": "markdown",
   "metadata": {},
   "source": [
    "### Content-based accuracy"
   ]
  },
  {
   "cell_type": "code",
   "execution_count": 50,
   "metadata": {
    "collapsed": false
   },
   "outputs": [
    {
     "name": "stdout",
     "output_type": "stream",
     "text": [
      "User 13\n",
      "\n",
      "Content-based Accuracy - Excluding Recommendation Rank\n",
      "Precision: 0.20\n",
      "Recall: 0.10\n",
      "F1 score: 0.13\n",
      "\n",
      "Content-based Accuracy - Including Recommendation Rank\n",
      "Precision: 0.00\n",
      "Recall: 0.00\n",
      "F1 score: 0.00\n",
      "\n"
     ]
    }
   ],
   "source": [
    "# Content-based accuracy\n",
    "numTest = len(testIDs)\n",
    "\n",
    "precisionContent, recallContent, f1Content = get_rec_accuracy(topTestIDs, topContentIDs, numTest, rec_rank=False)\n",
    "print \"User %d\\n\" %user_num\n",
    "print \"Content-based Accuracy - Excluding Recommendation Rank\"\n",
    "print \"Precision: %.2f\" %precisionContent\n",
    "print \"Recall: %.2f\" %recallContent\n",
    "print \"F1 score: %.2f\\n\" %f1Content\n",
    "\n",
    "precisionContent_rank, recallContent_rank, f1Content_rank = get_rec_accuracy(topTestIDs, topContentIDs, numTest, rec_rank=True)\n",
    "print \"Content-based Accuracy - Including Recommendation Rank\"\n",
    "print \"Precision: %.2f\" %precisionContent_rank\n",
    "print \"Recall: %.2f\" %recallContent_rank\n",
    "print \"F1 score: %.2f\\n\" %f1Content_rank"
   ]
  },
  {
   "cell_type": "markdown",
   "metadata": {},
   "source": [
    "### Compare Precision, Recall, F1 Score"
   ]
  },
  {
   "cell_type": "code",
   "execution_count": 63,
   "metadata": {
    "collapsed": false
   },
   "outputs": [],
   "source": [
    "import random\n",
    "users = range(1, numUsers + 1)\n",
    "random.shuffle(users)\n",
    "users = users[:50]"
   ]
  },
  {
   "cell_type": "markdown",
   "metadata": {},
   "source": [
    "#### Compare based off top 25% of recommendations"
   ]
  },
  {
   "cell_type": "code",
   "execution_count": 65,
   "metadata": {
    "collapsed": false
   },
   "outputs": [],
   "source": [
    "CFCB_accuracy_25 = pd.DataFrame(index=users, columns=['precision_cf', 'recall_cf', 'f1_cf', \n",
    "                                                  'precision_cb', 'recall_cb', 'f1_cb'])\n",
    "\n",
    "topN = 0.25 #top N percent of recommendations\n",
    "for u in users:\n",
    "    trainSet, trainIDs, testSet, testIDs = make_traintest_sets(ratings, u)\n",
    "    topTestIDs, topCFIDs, topContentIDs = get_top_recommendations(u, testSet, testIDs, topN)\n",
    "    num_test = len(testIDs)\n",
    "    pcf, rcf, f1cf = get_rec_accuracy(topTestIDs, topCFIDs, num_test, rec_rank=False)\n",
    "    pcb, rcb, f1cb = get_rec_accuracy(topTestIDs, topContentIDs, num_test, rec_rank=False)\n",
    "    \n",
    "    CFCB_accuracy_25.ix[u] = np.array([pcf, rcf, f1cf, pcb, rcb, f1cb])  "
   ]
  },
  {
   "cell_type": "code",
   "execution_count": 69,
   "metadata": {
    "collapsed": false
   },
   "outputs": [
    {
     "data": {
      "text/html": [
       "<div>\n",
       "<table border=\"1\" class=\"dataframe\">\n",
       "  <thead>\n",
       "    <tr style=\"text-align: right;\">\n",
       "      <th></th>\n",
       "      <th>Top_25%</th>\n",
       "    </tr>\n",
       "  </thead>\n",
       "  <tbody>\n",
       "    <tr>\n",
       "      <th>precision_cf</th>\n",
       "      <td>0.4684</td>\n",
       "    </tr>\n",
       "    <tr>\n",
       "      <th>recall_cf</th>\n",
       "      <td>0.1350</td>\n",
       "    </tr>\n",
       "    <tr>\n",
       "      <th>f1_cf</th>\n",
       "      <td>0.2086</td>\n",
       "    </tr>\n",
       "    <tr>\n",
       "      <th>precision_cb</th>\n",
       "      <td>0.5354</td>\n",
       "    </tr>\n",
       "    <tr>\n",
       "      <th>recall_cb</th>\n",
       "      <td>0.1524</td>\n",
       "    </tr>\n",
       "    <tr>\n",
       "      <th>f1_cb</th>\n",
       "      <td>0.2362</td>\n",
       "    </tr>\n",
       "  </tbody>\n",
       "</table>\n",
       "</div>"
      ],
      "text/plain": [
       "              Top_25%\n",
       "precision_cf   0.4684\n",
       "recall_cf      0.1350\n",
       "f1_cf          0.2086\n",
       "precision_cb   0.5354\n",
       "recall_cb      0.1524\n",
       "f1_cb          0.2362"
      ]
     },
     "execution_count": 69,
     "metadata": {},
     "output_type": "execute_result"
    }
   ],
   "source": [
    "# Average accuracy scores\n",
    "CFCB_mean25 = pd.DataFrame(CFCB_accuracy_25.mean(axis=0), columns=[\"Top_25%\"])\n",
    "CFCB_mean25"
   ]
  },
  {
   "cell_type": "markdown",
   "metadata": {},
   "source": [
    "#### Repeat for N = top 50%"
   ]
  },
  {
   "cell_type": "code",
   "execution_count": 70,
   "metadata": {
    "collapsed": true
   },
   "outputs": [],
   "source": [
    "CFCB_accuracy_50 = pd.DataFrame(index=users, columns=['precision_cf', 'recall_cf', 'f1_cf', \n",
    "                                                  'precision_cb', 'recall_cb', 'f1_cb'])\n",
    "\n",
    "topN = 0.50 #top N percent of recommendations\n",
    "for u in users:\n",
    "    trainSet, trainIDs, testSet, testIDs = make_traintest_sets(ratings, u)\n",
    "    topTestIDs, topCFIDs, topContentIDs = get_top_recommendations(u, testSet, testIDs, topN)\n",
    "    num_test = len(testIDs)\n",
    "    pcf, rcf, f1cf = get_rec_accuracy(topTestIDs, topCFIDs, num_test, rec_rank=False)\n",
    "    pcb, rcb, f1cb = get_rec_accuracy(topTestIDs, topContentIDs, num_test, rec_rank=False)\n",
    "    \n",
    "    CFCB_accuracy_50.ix[u] = np.array([pcf, rcf, f1cf, pcb, rcb, f1cb])  "
   ]
  },
  {
   "cell_type": "code",
   "execution_count": 77,
   "metadata": {
    "collapsed": false
   },
   "outputs": [
    {
     "data": {
      "text/html": [
       "<div>\n",
       "<table border=\"1\" class=\"dataframe\">\n",
       "  <thead>\n",
       "    <tr style=\"text-align: right;\">\n",
       "      <th></th>\n",
       "      <th>Top_50%</th>\n",
       "    </tr>\n",
       "  </thead>\n",
       "  <tbody>\n",
       "    <tr>\n",
       "      <th>precision_cf</th>\n",
       "      <td>0.6664</td>\n",
       "    </tr>\n",
       "    <tr>\n",
       "      <th>recall_cf</th>\n",
       "      <td>0.3458</td>\n",
       "    </tr>\n",
       "    <tr>\n",
       "      <th>f1_cf</th>\n",
       "      <td>0.4554</td>\n",
       "    </tr>\n",
       "    <tr>\n",
       "      <th>precision_cb</th>\n",
       "      <td>0.7162</td>\n",
       "    </tr>\n",
       "    <tr>\n",
       "      <th>recall_cb</th>\n",
       "      <td>0.3710</td>\n",
       "    </tr>\n",
       "    <tr>\n",
       "      <th>f1_cb</th>\n",
       "      <td>0.4890</td>\n",
       "    </tr>\n",
       "  </tbody>\n",
       "</table>\n",
       "</div>"
      ],
      "text/plain": [
       "              Top_50%\n",
       "precision_cf   0.6664\n",
       "recall_cf      0.3458\n",
       "f1_cf          0.4554\n",
       "precision_cb   0.7162\n",
       "recall_cb      0.3710\n",
       "f1_cb          0.4890"
      ]
     },
     "execution_count": 77,
     "metadata": {},
     "output_type": "execute_result"
    }
   ],
   "source": [
    "# Average accuracy scores\n",
    "CFCB_mean50 = pd.DataFrame(CFCB_accuracy_50.mean(axis=0), columns=[\"Top_50%\"])\n",
    "CFCB_mean50"
   ]
  },
  {
   "cell_type": "code",
   "execution_count": 83,
   "metadata": {
    "collapsed": false
   },
   "outputs": [
    {
     "data": {
      "text/plain": [
       "<matplotlib.axes._subplots.AxesSubplot at 0x7f9f290f5910>"
      ]
     },
     "execution_count": 83,
     "metadata": {},
     "output_type": "execute_result"
    },
    {
     "data": {
      "image/png": "[encoded data removed]",
      "text/plain": [
       "<matplotlib.figure.Figure at 0x7f9f29379a90>"
      ]
     },
     "metadata": {},
     "output_type": "display_data"
    }
   ],
   "source": [
    "%matplotlib inline\n",
    "\n",
    "CFCB_compare = CFCB_mean25.merge(CFCB_mean50,left_index=True, right_index=True)\n",
    "CFCB_compare.plot(kind='bar', figsize=[12,6])"
   ]
  },
  {
   "cell_type": "markdown",
   "metadata": {},
   "source": [
    "Very interesting that CB outperformed CF on all measures. Let's try a two-stage approach involving clustering."
   ]
  },
  {
   "cell_type": "markdown",
   "metadata": {},
   "source": [
    "# Part 4: Two-Stage Model with Clustering"
   ]
  },
  {
   "cell_type": "markdown",
   "metadata": {},
   "source": [
    "## K-means"
   ]
  },
  {
   "cell_type": "markdown",
   "metadata": {},
   "source": [
    "### K-means cluster jokes"
   ]
  },
  {
   "cell_type": "code",
   "execution_count": 85,
   "metadata": {
    "collapsed": false
   },
   "outputs": [],
   "source": [
    "jpd_kmeans_jokes = jpd.iloc[:,1:].transpose()\n",
    "jdf_kmeans_jokes = sqlc.createDataFrame(jpd_kmeans_jokes)"
   ]
  },
  {
   "cell_type": "code",
   "execution_count": 88,
   "metadata": {
    "collapsed": false
   },
   "outputs": [],
   "source": [
    "# Source: http://spark.apache.org/docs/latest/mllib-clustering.html\n",
    "\n",
    "from pyspark.mllib.clustering import KMeans, KMeansModel\n",
    "from numpy import array\n",
    "\n",
    "k = 5\n",
    "jokes_kmeans = jdf_kmeans_jokes.map(lambda row: array([x for x in row]))\n",
    "jokes_clusters = KMeans.train(jokes_kmeans, k, maxIterations=10, seed=55)"
   ]
  },
  {
   "cell_type": "code",
   "execution_count": 90,
   "metadata": {
    "collapsed": false
   },
   "outputs": [
    {
     "name": "stdout",
     "output_type": "stream",
     "text": [
      "2\n",
      "Counter({2: 63, 0: 34, 1: 1, 3: 1, 4: 1})\n"
     ]
    }
   ],
   "source": [
    "# Predict cluster of each user\n",
    "jokes_kmeans_predict = jokes_clusters.predict(jokes_kmeans).take(jokes_kmeans.count())\n",
    "\n",
    "# Examine output\n",
    "from collections import Counter\n",
    "print jokes_kmeans_predict[0]\n",
    "print(Counter(jokes_kmeans_predict))"
   ]
  },
  {
   "cell_type": "code",
   "execution_count": 91,
   "metadata": {
    "collapsed": false
   },
   "outputs": [
    {
     "data": {
      "text/plain": [
       "17584.067350474736"
      ]
     },
     "execution_count": 91,
     "metadata": {},
     "output_type": "execute_result"
    }
   ],
   "source": [
    "# Sum of squares distance\n",
    "jokes_clusters.computeCost(jokes_kmeans)"
   ]
  },
  {
   "cell_type": "markdown",
   "metadata": {},
   "source": [
    "It doesn't seem very suitable to cluster based on jokes. Joke features are too sparse and computationally expensive, while ratings don't produce very even-weighted clusters. Let's try clustering users instead."
   ]
  },
  {
   "cell_type": "markdown",
   "metadata": {},
   "source": [
    "### K-means cluster users"
   ]
  },
  {
   "cell_type": "code",
   "execution_count": 92,
   "metadata": {
    "collapsed": false
   },
   "outputs": [],
   "source": [
    "jpd_kmeans_user = jpd.iloc[:,1:]\n",
    "jdf_kmeans_user = sqlc.createDataFrame(jpd_kmeans_user)"
   ]
  },
  {
   "cell_type": "code",
   "execution_count": 93,
   "metadata": {
    "collapsed": true
   },
   "outputs": [],
   "source": [
    "k = 10 # number of clusters\n",
    "user_kmeans = jdf_kmeans_user.map(lambda row: array([x for x in row]))\n",
    "user_clusters = KMeans.train(user_kmeans, k, maxIterations=10, seed=55)"
   ]
  },
  {
   "cell_type": "code",
   "execution_count": 96,
   "metadata": {
    "collapsed": false
   },
   "outputs": [
    {
     "data": {
      "image/png": "[encoded data removed]",
      "text/plain": [
       "<matplotlib.figure.Figure at 0x7f9f29e99350>"
      ]
     },
     "metadata": {},
     "output_type": "display_data"
    }
   ],
   "source": [
    "# Predict cluster of each user\n",
    "user_kmeans_predict = user_clusters.predict(user_kmeans).take(user_kmeans.count())\n",
    "\n",
    "# Examine output\n",
    "kfreq = Counter(user_kmeans_predict)\n",
    "\n",
    "# http://matplotlib.org/examples/lines_bars_and_markers/barh_demo.html\n",
    "import matplotlib.pyplot as plt\n",
    "import numpy as np\n",
    "\n",
    "cluster = kfreq.keys()\n",
    "y = np.arange(len(cluster))[::-1]\n",
    "freq = kfreq.values()\n",
    "\n",
    "plt.figure(figsize=[15,5])\n",
    "plt.barh(y, freq, alpha=0.6)\n",
    "plt.yticks(y, cluster)\n",
    "plt.xlabel('Number in cluster')\n",
    "plt.ylabel('Cluster number')\n",
    "plt.title('Frequency Distribution of User Clusters')\n",
    "\n",
    "plt.show()"
   ]
  },
  {
   "cell_type": "code",
   "execution_count": 97,
   "metadata": {
    "collapsed": false
   },
   "outputs": [
    {
     "data": {
      "text/plain": [
       "16987.183085482116"
      ]
     },
     "execution_count": 97,
     "metadata": {},
     "output_type": "execute_result"
    }
   ],
   "source": [
    "# Sum of squares distance\n",
    "user_clusters.computeCost(user_kmeans)"
   ]
  },
  {
   "cell_type": "markdown",
   "metadata": {},
   "source": [
    "### Latent Dirichlet Allocation (LDA)"
   ]
  },
  {
   "cell_type": "markdown",
   "metadata": {},
   "source": [
    "LDA is another clustering algorithm that extracts topic features, rather than the word features of TF.IDF from a corpus of documents. This would seemingly be helpful for our analysis as topics may be more informative than words for clustering jokes and identifying common features. Unfortunately, I ran into severe runtime and memory errors while executing the PySpark LDA implemementation. A separate attempt was made using SciPy’s sparse matrices, but that data structure was not compatible with PySpark. Some further notes and code attempts are in the appendix."
   ]
  },
  {
   "cell_type": "markdown",
   "metadata": {},
   "source": [
    "# Part 5: Combine Clustering with CF"
   ]
  },
  {
   "cell_type": "markdown",
   "metadata": {},
   "source": [
    "K-means clustering on the user was the selected clustering method for the two-stage approach. After selecting the predicted cluster for the specified user, the CF model is re-trained using only users and ratings from that same cluster. The rest of the ALS model, however, remained the same. Likewise, the train-test set approach for error measurement and precision/recall/F1 approach for accuracy were consistent to allow for direct comparison with the CF-only model. "
   ]
  },
  {
   "cell_type": "code",
   "execution_count": 98,
   "metadata": {
    "collapsed": false
   },
   "outputs": [],
   "source": [
    "# Get user cluster\n",
    "user_num = 13\n",
    "user_cluster = user_kmeans_predict[user_num - 1]\n",
    "filteredIDs = [x[0]+1 for x in enumerate(user_kmeans_predict) if x[1] == user_cluster]"
   ]
  },
  {
   "cell_type": "code",
   "execution_count": 99,
   "metadata": {
    "collapsed": false,
    "scrolled": true
   },
   "outputs": [],
   "source": [
    "# Create new PySpark arrays based on cluster filter\n",
    "jpd_filter = jpd.copy()\n",
    "jdf_filter = sqlc.createDataFrame(jpd_filter)\n",
    "jrdd_filter = jdf_filter.rdd"
   ]
  },
  {
   "cell_type": "code",
   "execution_count": 101,
   "metadata": {
    "collapsed": false
   },
   "outputs": [
    {
     "name": "stdout",
     "output_type": "stream",
     "text": [
      "Number of users in matching cluster: 271195\n"
     ]
    }
   ],
   "source": [
    "# Filter users by matching cluster only\n",
    "combo_rdd = jrdd_filter.filter(lambda x: (int(x[0]) in filteredIDs))\n",
    "combo_ratings = combo_rdd.flatMap(lambda line: [(line[0], i, line[i]) for i in range(1,101) if line[i]!=0])\n",
    "print \"Number of users in matching cluster: %d\" %combo_ratings.count()"
   ]
  },
  {
   "cell_type": "code",
   "execution_count": 102,
   "metadata": {
    "collapsed": false
   },
   "outputs": [],
   "source": [
    "# Retrain CF model based on filtered dataset\n",
    "cAll = combo_ratings.filter(lambda x: int(x[0]) in filteredIDs)\n",
    "cTrain, cTest = cAll.randomSplit([0.75, 0.25], seed = 85)\n",
    "combo_model = ALS.train(cTrain, rank, numIterations)"
   ]
  },
  {
   "cell_type": "markdown",
   "metadata": {},
   "source": [
    "### Accuracy of combined model"
   ]
  },
  {
   "cell_type": "code",
   "execution_count": 103,
   "metadata": {
    "collapsed": false
   },
   "outputs": [
    {
     "data": {
      "text/plain": [
       "[((674, 48), (0.17266463395939652, 0.09892743551591324)),\n",
       " ((8516, 28), (0.14703175646904293, 0.12107734564946049)),\n",
       " ((21645, 13), (-0.08875312963324045, 0.023182066523742606))]"
      ]
     },
     "execution_count": 103,
     "metadata": {},
     "output_type": "execute_result"
    }
   ],
   "source": [
    "cTest = sc.parallelize(cTest.collect())\n",
    "combo_predict = combo_model.predictAll(cTest.map(lambda p: (p[0], p[1]))).map(lambda r: ((r[0], r[1]), r[2]))\n",
    "\n",
    "# [(userID, jokeID), (actual rating, predicted rating)]\n",
    "combo_results = cTest.map(lambda r: ((int(r[0]), r[1]), r[2])).join(combo_predict)\n",
    "\n",
    "# Example\n",
    "combo_results.collect()[:3]"
   ]
  },
  {
   "cell_type": "code",
   "execution_count": 175,
   "metadata": {
    "collapsed": false
   },
   "outputs": [
    {
     "name": "stdout",
     "output_type": "stream",
     "text": [
      "Mean Squared Error = 0.006\n",
      "Root Mean Squared Error = 0.079\n",
      "Mean Absolute Error = 0.062\n"
     ]
    }
   ],
   "source": [
    "MSE_combo = combo_results.map(lambda r: (r[1][0] - r[1][1])**2).mean()\n",
    "print \"Mean Squared Error = %.3f\" %(MSE_combo)\n",
    "\n",
    "RMSE_combo = math.sqrt(MSE_combo)\n",
    "print \"Root Mean Squared Error = %.3f\" %(RMSE_combo)\n",
    "\n",
    "MAE_combo = combo_results.map(lambda r: abs((r[1][0] - r[1][1]))).mean()\n",
    "print \"Mean Absolute Error = %.3f\" %(MAE_combo)"
   ]
  },
  {
   "cell_type": "markdown",
   "metadata": {},
   "source": [
    "#### Comparison with CF-only Model"
   ]
  },
  {
   "cell_type": "code",
   "execution_count": 176,
   "metadata": {
    "collapsed": false
   },
   "outputs": [
    {
     "data": {
      "text/html": [
       "<div>\n",
       "<table border=\"1\" class=\"dataframe\">\n",
       "  <thead>\n",
       "    <tr style=\"text-align: right;\">\n",
       "      <th></th>\n",
       "      <th>MSE</th>\n",
       "      <th>RMSE</th>\n",
       "      <th>MAE</th>\n",
       "    </tr>\n",
       "  </thead>\n",
       "  <tbody>\n",
       "    <tr>\n",
       "      <th>CF-only</th>\n",
       "      <td>0.008884</td>\n",
       "      <td>0.079306</td>\n",
       "      <td>0.075771</td>\n",
       "    </tr>\n",
       "    <tr>\n",
       "      <th>Cluster+CF</th>\n",
       "      <td>0.006289</td>\n",
       "      <td>0.079306</td>\n",
       "      <td>0.061947</td>\n",
       "    </tr>\n",
       "  </tbody>\n",
       "</table>\n",
       "</div>"
      ],
      "text/plain": [
       "                 MSE      RMSE       MAE\n",
       "CF-only     0.008884  0.079306  0.075771\n",
       "Cluster+CF  0.006289  0.079306  0.061947"
      ]
     },
     "execution_count": 176,
     "metadata": {},
     "output_type": "execute_result"
    }
   ],
   "source": [
    "error_compare = pd.DataFrame([np.array([MSE_cf, RMSE_cf, MAE_cf]), \n",
    "                              np.array([MSE_combo, RMSE_combo, MAE_combo])], \n",
    "                 index = ['CF-only', 'Cluster+CF'],\n",
    "                 columns = ['MSE', 'RMSE', 'MAE'] )\n",
    "\n",
    "error_compare"
   ]
  },
  {
   "cell_type": "code",
   "execution_count": 112,
   "metadata": {
    "collapsed": false
   },
   "outputs": [
    {
     "data": {
      "text/plain": [
       "<matplotlib.axes._subplots.AxesSubplot at 0x7f9f13148f90>"
      ]
     },
     "execution_count": 112,
     "metadata": {},
     "output_type": "execute_result"
    },
    {
     "data": {
      "image/png": "[encoded data removed]",
      "text/plain": [
       "<matplotlib.figure.Figure at 0x7f9f12f70810>"
      ]
     },
     "metadata": {},
     "output_type": "display_data"
    }
   ],
   "source": [
    "error_compare.transpose().plot(kind='bar', figsize=[8,5])"
   ]
  },
  {
   "cell_type": "markdown",
   "metadata": {},
   "source": [
    "TODO: Comment on results"
   ]
  },
  {
   "cell_type": "markdown",
   "metadata": {},
   "source": [
    "### Combined Model Recommendations"
   ]
  },
  {
   "cell_type": "code",
   "execution_count": 113,
   "metadata": {
    "collapsed": false
   },
   "outputs": [
    {
     "name": "stdout",
     "output_type": "stream",
     "text": [
      "Recommended jokes for User 13 (score out of 10): \n",
      "\n",
      "JokeID: 12    Predicted rating: 0.15\n",
      "JokeID: 26    Predicted rating: 0.15\n",
      "JokeID: 6    Predicted rating: 0.15\n",
      "JokeID: 22    Predicted rating: 0.15\n",
      "JokeID: 40    Predicted rating: 0.14\n"
     ]
    }
   ],
   "source": [
    "# Recommendations based on combo cluster-CF approach\n",
    "user_num = 13\n",
    "combo_ratedIDs, combo_notRatedIDs = get_rated_notRated(user_num, combo_ratings)\n",
    "\n",
    "if combo_notRatedIDs:\n",
    "    combo_recs = get_cf_recs(user_num, combo_notRatedIDs, combo_model)\n",
    "    print \"Recommended jokes for User %d (score out of 10): \\n\" %(user_num)\n",
    "    for i in combo_recs[:5]:\n",
    "        print \"JokeID: %d    Predicted rating: %.2f\" %(i[1], i[2])\n",
    "else: \n",
    "    print \"No unrated jokes for User %d\" %(user_num)"
   ]
  },
  {
   "cell_type": "markdown",
   "metadata": {},
   "source": [
    "### CF-only Recommendations"
   ]
  },
  {
   "cell_type": "code",
   "execution_count": 114,
   "metadata": {
    "collapsed": false
   },
   "outputs": [
    {
     "name": "stdout",
     "output_type": "stream",
     "text": [
      "Recommended jokes for User 13 (score out of 10): \n",
      "\n",
      "JokeID: 89    Predicted rating: 0.15\n",
      "JokeID: 72    Predicted rating: 0.14\n",
      "JokeID: 76    Predicted rating: 0.12\n",
      "JokeID: 83    Predicted rating: 0.12\n",
      "JokeID: 12    Predicted rating: 0.12\n"
     ]
    }
   ],
   "source": [
    "# Example - top 5 recommendations for User 13\n",
    "user_num = 13\n",
    "user_rated, user_notRated = get_rated_notRated(user_num, ratings)\n",
    "\n",
    "if user_notRated:\n",
    "    cf_recs[user_num] = get_cf_recs(user_num, user_notRated, cf_model)\n",
    "    print \"Recommended jokes for User %d (score out of 10): \\n\" %(user_num)\n",
    "    for i in cf_recs[user_num][:5]:\n",
    "        print \"JokeID: %d    Predicted rating: %.2f\" %(i[1], i[2])\n",
    "else: \n",
    "    print \"No unrated jokes for User %d\" %(user_num)"
   ]
  },
  {
   "cell_type": "markdown",
   "metadata": {},
   "source": [
    "We definitely see some different recommendation results from the two models."
   ]
  },
  {
   "cell_type": "markdown",
   "metadata": {},
   "source": [
    "### Recommendations - Test set and CF only"
   ]
  },
  {
   "cell_type": "code",
   "execution_count": 177,
   "metadata": {
    "collapsed": false
   },
   "outputs": [
    {
     "name": "stdout",
     "output_type": "stream",
     "text": [
      "[49, 36, 93, 45, 28]\n",
      "[36, 49, 42, 93, 28]\n"
     ]
    }
   ],
   "source": [
    "# All Recs\n",
    "user_num = 13\n",
    "trainSet, trainIDs, testSet, testIDs = make_traintest_sets(ratings, user_num)\n",
    "topTestIDs, topCFIDs, topContentIDs = get_top_recommendations(user_num, testSet, testIDs, 0.5)\n",
    "\n",
    "print topTestIDs\n",
    "print topCFIDs"
   ]
  },
  {
   "cell_type": "markdown",
   "metadata": {},
   "source": [
    "### Recommendations - Cluster + CF"
   ]
  },
  {
   "cell_type": "code",
   "execution_count": 117,
   "metadata": {
    "collapsed": true
   },
   "outputs": [],
   "source": [
    "# Redo train-test set functions to account for new model filtering out users\n",
    "\n",
    "def make_traintest_sets_combo(ratings_base, user_num):\n",
    "    \n",
    "    rall = ratings_base.filter(lambda x: x[0]==str(user_num))\n",
    "    rtest = rall.filter(lambda x: x[1] in testIDs)\n",
    "\n",
    "    return rtest\n",
    "\n",
    "def get_top_recs_combo(user_num,rtestIDs, N):\n",
    "    \n",
    "    # N recommendations to return\n",
    "    n = int(math.ceil(N * len(rtestIDs)))\n",
    "    \n",
    "    # top Combo\n",
    "    comboRecs = get_cf_recs(user_num, rtestIDs, combo_model)\n",
    "    topComboIDs = [x[1] for x in comboRecs[:n]]\n",
    "    \n",
    "    return (comboRecs, topComboIDs)"
   ]
  },
  {
   "cell_type": "code",
   "execution_count": 118,
   "metadata": {
    "collapsed": false
   },
   "outputs": [
    {
     "name": "stdout",
     "output_type": "stream",
     "text": [
      "[36, 49, 42, 28, 45]\n"
     ]
    }
   ],
   "source": [
    "comboTest = make_traintest_sets_combo(combo_ratings, user_num)\n",
    "comboRecs, topComboIDs = get_top_recs_combo(user_num, testIDs, 0.5)\n",
    "print topComboIDs"
   ]
  },
  {
   "cell_type": "markdown",
   "metadata": {},
   "source": [
    "### CF-only accuracy"
   ]
  },
  {
   "cell_type": "code",
   "execution_count": 120,
   "metadata": {
    "collapsed": false
   },
   "outputs": [
    {
     "name": "stdout",
     "output_type": "stream",
     "text": [
      "User 13\n",
      "\n",
      "Collaborative Filtering Accuracy - Excluding Recommendation Rank\n",
      "Precision: 0.80\n",
      "Recall: 0.40\n",
      "F1 score: 0.53\n",
      "\n",
      "Collaborative Filtering Accuracy - Including Recommendation Rank\n",
      "Precision: 0.17\n",
      "Recall: 0.08\n",
      "F1 score: 0.11\n",
      "\n"
     ]
    }
   ],
   "source": [
    "# Collaborative filtering accuracy\n",
    "numTest = len(testIDs)\n",
    "user_num = 13\n",
    "\n",
    "precisionCF, recallCF, f1CF = get_rec_accuracy(topTestIDs, topCFIDs, numTest, rec_rank=False)\n",
    "print \"User %d\\n\" %user_num\n",
    "print \"Collaborative Filtering Accuracy - Excluding Recommendation Rank\"\n",
    "print \"Precision: %.2f\" %precisionCF\n",
    "print \"Recall: %.2f\" %recallCF\n",
    "print \"F1 score: %.2f\\n\" %f1CF\n",
    "\n",
    "precisionCF_rank, recallCF_rank, f1CF_rank = get_rec_accuracy(topTestIDs, topCFIDs, numTest, rec_rank=True)\n",
    "print \"Collaborative Filtering Accuracy - Including Recommendation Rank\"\n",
    "print \"Precision: %.2f\" %precisionCF_rank\n",
    "print \"Recall: %.2f\" %recallCF_rank\n",
    "print \"F1 score: %.2f\\n\" %f1CF_rank"
   ]
  },
  {
   "cell_type": "markdown",
   "metadata": {},
   "source": [
    "### Clustering + CF accuracy"
   ]
  },
  {
   "cell_type": "code",
   "execution_count": 119,
   "metadata": {
    "collapsed": false
   },
   "outputs": [
    {
     "name": "stdout",
     "output_type": "stream",
     "text": [
      "User 13\n",
      "\n",
      "Combo Cluster-CF Accuracy - Excluding Recommendation Rank\n",
      "Precision: 0.80\n",
      "Recall: 0.40\n",
      "F1 score: 0.53\n",
      "\n",
      "Combo Cluster-CF Accuracy - Including Recommendation Rank\n",
      "Precision: 0.00\n",
      "Recall: 0.00\n",
      "F1 score: 0.00\n",
      "\n"
     ]
    }
   ],
   "source": [
    "\n",
    "numTest = len(testIDs)\n",
    "user_num = 13\n",
    "\n",
    "precisionCombo, recallCombo, f1Combo = get_rec_accuracy(topTestIDs, topComboIDs, numTest, rec_rank=False)\n",
    "print \"User %d\\n\" %user_num\n",
    "print \"Combo Cluster-CF Accuracy - Excluding Recommendation Rank\"\n",
    "print \"Precision: %.2f\" %precisionCombo\n",
    "print \"Recall: %.2f\" %recallCombo\n",
    "print \"F1 score: %.2f\\n\" %f1Combo\n",
    "\n",
    "precisionCombo_rank, recallCombo_rank, f1Combo_rank = get_rec_accuracy(topTestIDs, topComboIDs, numTest, rec_rank=True)\n",
    "print \"Combo Cluster-CF Accuracy - Including Recommendation Rank\"\n",
    "print \"Precision: %.2f\" %precisionCombo_rank\n",
    "print \"Recall: %.2f\" %recallCombo_rank\n",
    "print \"F1 score: %.2f\\n\" %f1Combo_rank"
   ]
  },
  {
   "cell_type": "markdown",
   "metadata": {},
   "source": [
    "### Compare Precision, Recall, F1 Score for CF-only vs. Cluster + CF"
   ]
  },
  {
   "cell_type": "code",
   "execution_count": 122,
   "metadata": {
    "collapsed": true
   },
   "outputs": [],
   "source": [
    "combo_accuracy_50 = pd.DataFrame(index=users2, columns=['precision_cf', 'recall_cf', 'f1_cf', \n",
    "                                                  'precision_combo', 'recall_combo', 'f1_combo'])"
   ]
  },
  {
   "cell_type": "code",
   "execution_count": 124,
   "metadata": {
    "collapsed": false
   },
   "outputs": [],
   "source": [
    "topN = 0.5 #top N percent of recommendations\n",
    "for u in users:\n",
    "    trainSet, trainIDs, testSet, testIDs = make_traintest_sets(ratings, u)\n",
    "    topTestIDs, topCFIDs, topContentIDs = get_top_recommendations(u, testSet, testIDs, topN)\n",
    "    comboRecs, topComboIDs = get_top_recs_combo(user_num, testIDs, topN)\n",
    "    num_test = len(testIDs)\n",
    "    pcf, rcf, f1cf = get_rec_accuracy(topTestIDs, topCFIDs, num_test, rec_rank=False)\n",
    "    pcombo, rcombo, f1combo = get_rec_accuracy(topTestIDs, topComboIDs, num_test, rec_rank=False)\n",
    "    \n",
    "    combo_accuracy_50.ix[u] = np.array([pcf, rcf, f1cf, pcombo, rcombo, f1combo])  "
   ]
  },
  {
   "cell_type": "code",
   "execution_count": 179,
   "metadata": {
    "collapsed": false
   },
   "outputs": [
    {
     "data": {
      "text/html": [
       "<div>\n",
       "<table border=\"1\" class=\"dataframe\">\n",
       "  <thead>\n",
       "    <tr style=\"text-align: right;\">\n",
       "      <th></th>\n",
       "      <th>Precision</th>\n",
       "      <th>Recall</th>\n",
       "      <th>F1</th>\n",
       "    </tr>\n",
       "  </thead>\n",
       "  <tbody>\n",
       "    <tr>\n",
       "      <th>CF-only</th>\n",
       "      <td>0.6664</td>\n",
       "      <td>0.3458</td>\n",
       "      <td>0.4554</td>\n",
       "    </tr>\n",
       "    <tr>\n",
       "      <th>Cluster+CF</th>\n",
       "      <td>0.6058</td>\n",
       "      <td>0.3148</td>\n",
       "      <td>0.4132</td>\n",
       "    </tr>\n",
       "  </tbody>\n",
       "</table>\n",
       "</div>"
      ],
      "text/plain": [
       "            Precision  Recall      F1\n",
       "CF-only        0.6664  0.3458  0.4554\n",
       "Cluster+CF     0.6058  0.3148  0.4132"
      ]
     },
     "execution_count": 179,
     "metadata": {},
     "output_type": "execute_result"
    }
   ],
   "source": [
    "# Average accuracy scores\n",
    "combo_mean50 = pd.DataFrame(combo_accuracy_50.mean(axis=0), columns=[\"Top_50%\"])\n",
    "\n",
    "combo_compare = pd.DataFrame([np.array(combo_mean50.ix[0:3]).flatten(), np.array(combo_mean50.ix[3:6]).flatten()],\n",
    "                            index = ['CF-only', 'Cluster+CF'], columns = ['Precision', 'Recall', 'F1'])\n",
    "combo_compare"
   ]
  },
  {
   "cell_type": "code",
   "execution_count": 172,
   "metadata": {
    "collapsed": false
   },
   "outputs": [
    {
     "data": {
      "text/plain": [
       "<matplotlib.axes._subplots.AxesSubplot at 0x7f9f11d572d0>"
      ]
     },
     "execution_count": 172,
     "metadata": {},
     "output_type": "execute_result"
    },
    {
     "data": {
      "image/png": "[encoded data removed]",
      "text/plain": [
       "<matplotlib.figure.Figure at 0x7f9f11d37390>"
      ]
     },
     "metadata": {},
     "output_type": "display_data"
    }
   ],
   "source": [
    "combo_compare.transpose().plot(kind='bar', figsize=[12,6])"
   ]
  },
  {
   "cell_type": "markdown",
   "metadata": {},
   "source": [
    "Interestingly here, the results favored the CF-only model, which was surprising given the perceived error advantages of the combined approach. My guess is that both stages are effectively reducing the user matrix and the clustering pass may be overdoing it. Given more time, I would look at the effects of increasing the number of center points in the k-mean model."
   ]
  },
  {
   "cell_type": "markdown",
   "metadata": {},
   "source": [
    "# Appendix"
   ]
  },
  {
   "cell_type": "markdown",
   "metadata": {},
   "source": [
    "## Timing Results"
   ]
  },
  {
   "cell_type": "markdown",
   "metadata": {},
   "source": [
    "### TF.IDF feature extraction"
   ]
  },
  {
   "cell_type": "code",
   "execution_count": 193,
   "metadata": {
    "collapsed": false
   },
   "outputs": [
    {
     "data": {
      "text/plain": [
       "<TimeitResult : 5 loops, best of 3: 233 ms per loop>"
      ]
     },
     "execution_count": 193,
     "metadata": {},
     "output_type": "execute_result"
    }
   ],
   "source": [
    "%%capture\n",
    "\n",
    "def time_tfidf(docs):\n",
    "    hashingTF = HashingTF()\n",
    "    tf = hashingTF.transform(docs)\n",
    "\n",
    "    tf.cache()\n",
    "    idf = IDF().fit(tf)\n",
    "    tfidf = idf.transform(tf)\n",
    "\n",
    "    return tfidf\n",
    "\n",
    "%timeit -n 5 -o time_tfidf(documents)"
   ]
  },
  {
   "cell_type": "markdown",
   "metadata": {},
   "source": [
    "### CF train model"
   ]
  },
  {
   "cell_type": "code",
   "execution_count": 198,
   "metadata": {
    "collapsed": false
   },
   "outputs": [
    {
     "data": {
      "text/plain": [
       "<TimeitResult : 3 loops, best of 3: 13.9 s per loop>"
      ]
     },
     "execution_count": 198,
     "metadata": {},
     "output_type": "execute_result"
    }
   ],
   "source": [
    "%%capture\n",
    "%timeit -n 3 -o ALS.train(ratingsTrain, rank, numIterations)"
   ]
  },
  {
   "cell_type": "markdown",
   "metadata": {},
   "source": [
    "### CF get recommendations"
   ]
  },
  {
   "cell_type": "code",
   "execution_count": 194,
   "metadata": {
    "collapsed": false
   },
   "outputs": [
    {
     "data": {
      "text/plain": [
       "<TimeitResult : 5 loops, best of 3: 329 ms per loop>"
      ]
     },
     "execution_count": 194,
     "metadata": {},
     "output_type": "execute_result"
    }
   ],
   "source": [
    "%%capture\n",
    "%timeit -n 5 -o get_cf_recs(user_num, user_notRated, cf_model)"
   ]
  },
  {
   "cell_type": "markdown",
   "metadata": {},
   "source": [
    "### CB user-profile generation"
   ]
  },
  {
   "cell_type": "code",
   "execution_count": 195,
   "metadata": {
    "collapsed": false
   },
   "outputs": [
    {
     "data": {
      "text/plain": [
       "<TimeitResult : 5 loops, best of 3: 1.54 s per loop>"
      ]
     },
     "execution_count": 195,
     "metadata": {},
     "output_type": "execute_result"
    }
   ],
   "source": [
    "%%capture\n",
    "%timeit -n 5 -o get_user_profile(user_num)"
   ]
  },
  {
   "cell_type": "markdown",
   "metadata": {},
   "source": [
    "### CB get recommendations"
   ]
  },
  {
   "cell_type": "code",
   "execution_count": 199,
   "metadata": {
    "collapsed": false
   },
   "outputs": [
    {
     "data": {
      "text/plain": [
       "<TimeitResult : 5 loops, best of 3: 188 ms per loop>"
      ]
     },
     "execution_count": 199,
     "metadata": {},
     "output_type": "execute_result"
    }
   ],
   "source": [
    "%%capture\n",
    "%timeit -n 5 -o get_content_recs(up, user_notRated)"
   ]
  },
  {
   "cell_type": "markdown",
   "metadata": {},
   "source": [
    "### K-means clustering"
   ]
  },
  {
   "cell_type": "code",
   "execution_count": 201,
   "metadata": {
    "collapsed": false,
    "scrolled": true
   },
   "outputs": [
    {
     "data": {
      "text/plain": [
       "<TimeitResult : 1 loops, best of 3: 1min 48s per loop>"
      ]
     },
     "execution_count": 201,
     "metadata": {},
     "output_type": "execute_result"
    }
   ],
   "source": [
    "%%capture\n",
    "\n",
    "def kmeans_time(jokes_kmeans, k):\n",
    "    jokes_clusters = KMeans.train(jokes_kmeans, k, maxIterations=10, seed=55)\n",
    "    jokes_kmeans_predict = jokes_clusters.predict(jokes_kmeans).take(jokes_kmeans.count())\n",
    "    return jokes_kmeans_predict \n",
    "\n",
    "%timeit -n 1 -o kmeans_time(jokes_kmeans , 5)"
   ]
  },
  {
   "cell_type": "markdown",
   "metadata": {},
   "source": [
    "### Two-stage cluster and CF approach"
   ]
  },
  {
   "cell_type": "code",
   "execution_count": 200,
   "metadata": {
    "collapsed": false
   },
   "outputs": [
    {
     "data": {
      "text/plain": [
       "<TimeitResult : 5 loops, best of 3: 244 ms per loop>"
      ]
     },
     "execution_count": 200,
     "metadata": {},
     "output_type": "execute_result"
    }
   ],
   "source": [
    "%%capture\n",
    "%timeit -n 5 -o get_top_recs_combo(user_num, testIDs, 0.5)"
   ]
  },
  {
   "cell_type": "markdown",
   "metadata": {},
   "source": [
    "## LDA clustering and feature extraction\n",
    "Memory and runtime errors. Scipy implementation also could not convert sparse matrices to PySpark"
   ]
  },
  {
   "cell_type": "code",
   "execution_count": null,
   "metadata": {
    "collapsed": false,
    "scrolled": true
   },
   "outputs": [],
   "source": [
    "# LDA for joke features\n",
    "\n",
    "# joke_features_par = sc.parallelize(joke_features)\n",
    "\n",
    "# from pyspark.mllib.clustering import LDA, LDAModel\n",
    "# from pyspark.mllib.linalg import Vectors\n",
    "\n",
    "# # Load and parse the data\n",
    "# # data = sc.textFile(\"/home/brian/workspace/cuny_msda_is622/spark-1.5.1-bin-hadoop2.6/data/mllib/sample_lda_data.txt\")\n",
    "# # parsedData = data.map(lambda line: Vectors.dense([float(x) for x in line.strip().split(' ')]))\n",
    "# # Index documents with unique IDs\n",
    "\n",
    "# corpus = joke_features_par.zipWithIndex().map(lambda x: [x[1], x[0]]).cache()\n",
    "\n",
    "# # Cluster the documents into three topics using LDA\n",
    "# ldaModel = LDA.train(corpus, k=3)\n",
    "\n",
    "# # Output topics. Each is a distribution over words (matching word count vectors)\n",
    "# print(\"Learned topics (as distributions over vocab of \" + str(ldaModel.vocabSize()) + \" words):\")\n",
    "# topics = ldaModel.topicsMatrix()\n",
    "# for topic in range(3):\n",
    "#     print(\"Topic \" + str(topic) + \":\")\n",
    "#     for word in range(0, ldaModel.vocabSize()):\n",
    "#         print(\" \" + str(topics[word][topic]))"
   ]
  },
  {
   "cell_type": "code",
   "execution_count": null,
   "metadata": {
    "collapsed": true
   },
   "outputs": [],
   "source": [
    "# Use Scikit-learn to make feature matrix, convert to PySpark\n",
    "# from sklearn.feature_extraction.text import TfidfVectorizer\n",
    "# textfile = open(\"jokesClean.txt\", \"rb\")\n",
    "# docs = textfile.read().split('\\n')\n",
    "# del docs[-1]\n",
    "# vectorizer = TfidfVectorizer(min_df=1)\n",
    "# docs_tfidf = vectorizer.fit_transform(docs)\n",
    "# from sklearn.metrics.pairwise import cosine_similarity\n",
    "# cs = cosine_similarity(docs_tfidf[0:1], docs_tfidf)\n",
    "# print cs\n",
    "# type(docs_tfidf)\n",
    "# sc.parallelize(docs_tfidf.toarray())"
   ]
  }
 ],
 "metadata": {
  "kernelspec": {
   "display_name": "Python 2",
   "language": "python",
   "name": "python2"
  },
  "language_info": {
   "codemirror_mode": {
    "name": "ipython",
    "version": 2
   },
   "file_extension": ".py",
   "mimetype": "text/x-python",
   "name": "python",
   "nbconvert_exporter": "python",
   "pygments_lexer": "ipython2",
   "version": "2.7.10"
  }
 },
 "nbformat": 4,
 "nbformat_minor": 0
}
